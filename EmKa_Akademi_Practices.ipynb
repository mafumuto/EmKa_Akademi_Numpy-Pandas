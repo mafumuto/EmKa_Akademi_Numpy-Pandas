{
  "nbformat": 4,
  "nbformat_minor": 0,
  "metadata": {
    "colab": {
      "provenance": [],
      "authorship_tag": "ABX9TyOBdTfccSnw4Waq7nMnJ7Xx",
      "include_colab_link": true
    },
    "kernelspec": {
      "name": "python3",
      "display_name": "Python 3"
    },
    "language_info": {
      "name": "python"
    }
  },
  "cells": [
    {
      "cell_type": "markdown",
      "metadata": {
        "id": "view-in-github",
        "colab_type": "text"
      },
      "source": [
        "<a href=\"https://colab.research.google.com/github/mafumuto/EmKa_Akademi_Numpy-Pandas/blob/main/EmKa_Akademi_Practices.ipynb\" target=\"_parent\"><img src=\"https://colab.research.google.com/assets/colab-badge.svg\" alt=\"Open In Colab\"/></a>"
      ]
    },
    {
      "cell_type": "code",
      "execution_count": null,
      "metadata": {
        "id": "GScRhwXK2m4t"
      },
      "outputs": [],
      "source": [
        "import numpy as np"
      ]
    },
    {
      "cell_type": "markdown",
      "source": [
        "1) Manuel değerleri el ile girerek 3 boyutlu bir array oluşturup bir değişkene atayın. Ardından 3 boyutlu olup olmadığına bakmak için dimension'ını kontrol edin\n",
        "# Cevap:"
      ],
      "metadata": {
        "id": "_0wnLljh4Egs"
      }
    },
    {
      "cell_type": "code",
      "source": [
        "arr3d = np.array([[[1, 2], [3, 4]], [[5, 6], [7, 8]], [[9, 10], [11, 12]]])\n",
        "print(arr3d)\n",
        "print('-------------------')\n",
        "print(arr3d.shape)\n",
        "arr3d.ndim"
      ],
      "metadata": {
        "colab": {
          "base_uri": "https://localhost:8080/"
        },
        "id": "V1zXv9kx3ES1",
        "outputId": "04fb00f5-0ba6-4c2b-d5cf-4eeee0886f5d"
      },
      "execution_count": null,
      "outputs": [
        {
          "output_type": "stream",
          "name": "stdout",
          "text": [
            "[[[ 1  2]\n",
            "  [ 3  4]]\n",
            "\n",
            " [[ 5  6]\n",
            "  [ 7  8]]\n",
            "\n",
            " [[ 9 10]\n",
            "  [11 12]]]\n",
            "-------------------\n",
            "(3, 2, 2)\n"
          ]
        },
        {
          "output_type": "execute_result",
          "data": {
            "text/plain": [
              "3"
            ]
          },
          "metadata": {},
          "execution_count": 8
        }
      ]
    },
    {
      "cell_type": "markdown",
      "source": [
        "2) 34, 40, 46, 52... 112 şeklinde devam eden 1 boyutlu bir array oluşturun.\n",
        "#Cevap:"
      ],
      "metadata": {
        "id": "DR6gfuMw4axW"
      }
    },
    {
      "cell_type": "code",
      "source": [
        "np.arange(34, 113, 6)"
      ],
      "metadata": {
        "colab": {
          "base_uri": "https://localhost:8080/"
        },
        "id": "w7lKeSQv4WVo",
        "outputId": "fa02a955-e846-4136-d032-b16affb760b5"
      },
      "execution_count": null,
      "outputs": [
        {
          "output_type": "execute_result",
          "data": {
            "text/plain": [
              "array([ 34,  40,  46,  52,  58,  64,  70,  76,  82,  88,  94, 100, 106,\n",
              "       112])"
            ]
          },
          "metadata": {},
          "execution_count": 9
        }
      ]
    },
    {
      "cell_type": "markdown",
      "source": [
        "3) 50-500 arasında lineer artış gösteren 91 tane tam sayıdan oluşan bir array oluşturun.(dtype'ı int olsun)\n",
        "#Cevap:"
      ],
      "metadata": {
        "id": "xPewfAiz43NZ"
      }
    },
    {
      "cell_type": "code",
      "source": [
        "np.linspace(50, 500, 91, dtype= int)"
      ],
      "metadata": {
        "colab": {
          "base_uri": "https://localhost:8080/"
        },
        "id": "gKDTYJlC49TW",
        "outputId": "35261abb-7523-4b03-abd2-61fa8ad518fc"
      },
      "execution_count": null,
      "outputs": [
        {
          "output_type": "execute_result",
          "data": {
            "text/plain": [
              "array([ 50,  55,  60,  65,  70,  75,  80,  85,  90,  95, 100, 105, 110,\n",
              "       115, 120, 125, 130, 135, 140, 145, 150, 155, 160, 165, 170, 175,\n",
              "       180, 185, 190, 195, 200, 205, 210, 215, 220, 225, 230, 235, 240,\n",
              "       245, 250, 255, 260, 265, 270, 275, 280, 285, 290, 295, 300, 305,\n",
              "       310, 315, 320, 325, 330, 335, 340, 345, 350, 355, 360, 365, 370,\n",
              "       375, 380, 385, 390, 395, 400, 405, 410, 415, 420, 425, 430, 435,\n",
              "       440, 445, 450, 455, 460, 465, 470, 475, 480, 485, 490, 495, 500])"
            ]
          },
          "metadata": {},
          "execution_count": 10
        }
      ]
    },
    {
      "cell_type": "markdown",
      "source": [
        "4) 100(10^2) ile 10000(10^5) arasında logaritmik artış gösteren 8 sayıdan oluşan bir array oluşturun.\n",
        "#Cevap:"
      ],
      "metadata": {
        "id": "Z_OWmWsE4_xt"
      }
    },
    {
      "cell_type": "code",
      "source": [
        "np.logspace(2, 5, 8, dtype= int)"
      ],
      "metadata": {
        "colab": {
          "base_uri": "https://localhost:8080/"
        },
        "id": "L61L_njR49eY",
        "outputId": "896634c7-ddc5-4170-b0c4-12fb3817071e"
      },
      "execution_count": null,
      "outputs": [
        {
          "output_type": "execute_result",
          "data": {
            "text/plain": [
              "array([   100,    268,    719,   1930,   5179,  13894,  37275, 100000])"
            ]
          },
          "metadata": {},
          "execution_count": 11
        }
      ]
    },
    {
      "cell_type": "markdown",
      "source": [
        "5) 0-8 tam arasındaki ardışık tam sayılardan oluşan(0 ve 8 dahil toplam 9 değer) 3x3 shape'inde bir matris oluşturun.\n",
        "#Cevap:"
      ],
      "metadata": {
        "id": "SS8pJIuU5opy"
      }
    },
    {
      "cell_type": "code",
      "source": [
        "arr_random = np.random.randint(0, 9, (3,3))\n",
        "print(arr_random)\n",
        "print('----------')\n",
        "arr_random.shape"
      ],
      "metadata": {
        "colab": {
          "base_uri": "https://localhost:8080/"
        },
        "id": "iMhTn-vn5ryQ",
        "outputId": "e5ac3700-f061-46e5-8b35-4cad6730832a"
      },
      "execution_count": null,
      "outputs": [
        {
          "output_type": "stream",
          "name": "stdout",
          "text": [
            "[[8 8 0]\n",
            " [7 7 4]\n",
            " [2 6 4]]\n",
            "----------\n"
          ]
        },
        {
          "output_type": "execute_result",
          "data": {
            "text/plain": [
              "(3, 3)"
            ]
          },
          "metadata": {},
          "execution_count": 14
        }
      ]
    },
    {
      "cell_type": "markdown",
      "source": [
        "6) 6x6 formatında bir sıfır matrisi oluşturun. (dtype'ı int olsun)\n",
        "#Cevap:"
      ],
      "metadata": {
        "id": "4NZ71n1a6PxF"
      }
    },
    {
      "cell_type": "code",
      "source": [
        "arr_zero = np.zeros((6,6), dtype= int)\n",
        "print(arr_zero)\n",
        "arr_zero.shape"
      ],
      "metadata": {
        "colab": {
          "base_uri": "https://localhost:8080/"
        },
        "id": "_QxMm4ba6V6W",
        "outputId": "f4cac4fc-63bc-4366-a6d1-963eaa53884e"
      },
      "execution_count": null,
      "outputs": [
        {
          "output_type": "stream",
          "name": "stdout",
          "text": [
            "[[0 0 0 0 0 0]\n",
            " [0 0 0 0 0 0]\n",
            " [0 0 0 0 0 0]\n",
            " [0 0 0 0 0 0]\n",
            " [0 0 0 0 0 0]\n",
            " [0 0 0 0 0 0]]\n"
          ]
        },
        {
          "output_type": "execute_result",
          "data": {
            "text/plain": [
              "(6, 6)"
            ]
          },
          "metadata": {},
          "execution_count": 17
        }
      ]
    },
    {
      "cell_type": "markdown",
      "source": [
        "7) 4x4 formatında bir bir matrisi oluşturun. (dtype'ı int olsun)\n",
        "#Cevap:"
      ],
      "metadata": {
        "id": "UqFL9pbc6wwx"
      }
    },
    {
      "cell_type": "code",
      "source": [
        "arr_one = np.ones((4,4), dtype = int)\n",
        "print(arr_one)\n",
        "arr_one.shape"
      ],
      "metadata": {
        "colab": {
          "base_uri": "https://localhost:8080/"
        },
        "id": "s1RZBcCQ67AA",
        "outputId": "f8b560a0-1c3f-4984-f20d-c7a04773914a"
      },
      "execution_count": null,
      "outputs": [
        {
          "output_type": "stream",
          "name": "stdout",
          "text": [
            "[[1 1 1 1]\n",
            " [1 1 1 1]\n",
            " [1 1 1 1]\n",
            " [1 1 1 1]]\n"
          ]
        },
        {
          "output_type": "execute_result",
          "data": {
            "text/plain": [
              "(4, 4)"
            ]
          },
          "metadata": {},
          "execution_count": 21
        }
      ]
    },
    {
      "cell_type": "markdown",
      "source": [
        "8) 8x8 formatında bir birim matris oluşturun. (Sadece sol köşegeni 1 geri kalan değerleri 0 olan matris'e birim matris deniyor.) (dtype'ı int olsun)\n",
        "#Cevap:"
      ],
      "metadata": {
        "id": "IBVQicKO7YfO"
      }
    },
    {
      "cell_type": "code",
      "source": [
        "arr_eye = np.eye(8, 8, dtype= int)\n",
        "print(arr_eye)\n",
        "print(f\"Shape and Data Type: {arr_eye.shape}, {arr_eye.dtype}\")"
      ],
      "metadata": {
        "colab": {
          "base_uri": "https://localhost:8080/"
        },
        "id": "lJKwV4jY7aEN",
        "outputId": "3fa9c566-7a4b-4ba8-98bf-7cc6cd13d1b1"
      },
      "execution_count": null,
      "outputs": [
        {
          "output_type": "stream",
          "name": "stdout",
          "text": [
            "[[1 0 0 0 0 0 0 0]\n",
            " [0 1 0 0 0 0 0 0]\n",
            " [0 0 1 0 0 0 0 0]\n",
            " [0 0 0 1 0 0 0 0]\n",
            " [0 0 0 0 1 0 0 0]\n",
            " [0 0 0 0 0 1 0 0]\n",
            " [0 0 0 0 0 0 1 0]\n",
            " [0 0 0 0 0 0 0 1]]\n",
            "Shape and Data Type: (8, 8), int64\n"
          ]
        }
      ]
    },
    {
      "cell_type": "markdown",
      "source": [
        "9) 5x5 formatında bir köşegen matrisi oluşturun (Sadece sol üstten sağ alta doğru olan köşegendeki değerleri 3 olsun diğer bütün değerleri 0) (Bunu henüz görmediniz ama birim matrise benziyor, sadece köşegen değerleri 1 değil 3 olacak. Bir şeyler düşünün)\n",
        "#Cevap:"
      ],
      "metadata": {
        "id": "smtrs-W08kR_"
      }
    },
    {
      "cell_type": "code",
      "source": [
        "a = np.linspace(3, 3 , 5, dtype= int)\n",
        "np.diag(a)"
      ],
      "metadata": {
        "colab": {
          "base_uri": "https://localhost:8080/"
        },
        "id": "j8H6TKS08ujP",
        "outputId": "d00128f4-6033-4610-a218-4ae7c886e820"
      },
      "execution_count": null,
      "outputs": [
        {
          "output_type": "execute_result",
          "data": {
            "text/plain": [
              "array([[3, 0, 0, 0, 0],\n",
              "       [0, 3, 0, 0, 0],\n",
              "       [0, 0, 3, 0, 0],\n",
              "       [0, 0, 0, 3, 0],\n",
              "       [0, 0, 0, 0, 3]])"
            ]
          },
          "metadata": {},
          "execution_count": 31
        }
      ]
    },
    {
      "cell_type": "markdown",
      "source": [
        "10) np.random modülünden uygun fonksiyonu kullanarak 0-1 arasında toplam 6 tane değerden oluşan 1 boyutlu bir array oluşturun.\n",
        "#Cevap:"
      ],
      "metadata": {
        "id": "k3ybOmPg_2aD"
      }
    },
    {
      "cell_type": "code",
      "source": [
        "np.random.random_sample(6)"
      ],
      "metadata": {
        "colab": {
          "base_uri": "https://localhost:8080/"
        },
        "id": "DxxiIY34_-NB",
        "outputId": "38c79917-a20b-4a70-ec6c-02552c5f6f12"
      },
      "execution_count": null,
      "outputs": [
        {
          "output_type": "execute_result",
          "data": {
            "text/plain": [
              "array([0.16971692, 0.5525381 , 0.86531427, 0.47421508, 0.4396164 ,\n",
              "       0.47747887])"
            ]
          },
          "metadata": {},
          "execution_count": 38
        }
      ]
    },
    {
      "cell_type": "markdown",
      "source": [
        "11) np.random modülünden uygun fonksiyonu kullanarak 50-100 arasındaki(50 ve 100 dahil) tam sayılardan 10 tanesiyle oluşan (5,2) shape'inde bir array oluşturun. Ardından bu arrayin shape'ini kontrol edin.\n",
        "#Cevap:"
      ],
      "metadata": {
        "id": "nFmAguoD_-vp"
      }
    },
    {
      "cell_type": "code",
      "source": [
        "arr_ten_random = np.random.randint(50, 100, (5, 2))\n",
        "print(f\"{arr_ten_random}\\nShape: {arr_ten_random.shape}\")"
      ],
      "metadata": {
        "colab": {
          "base_uri": "https://localhost:8080/"
        },
        "id": "bgXezwfGAAOb",
        "outputId": "4fddc7d0-4709-4dc0-c7cb-25470c22da5b"
      },
      "execution_count": null,
      "outputs": [
        {
          "output_type": "stream",
          "name": "stdout",
          "text": [
            "[[61 55]\n",
            " [81 80]\n",
            " [65 95]\n",
            " [62 56]\n",
            " [54 93]]\n",
            "Shape: (5, 2)\n"
          ]
        }
      ]
    },
    {
      "cell_type": "markdown",
      "source": [
        "12) np.random modülünden uygun fonksiyonu kullanarak 100-1000(1000 dahil değil) arasındaki tam sayılardan rastgele 50 tanesinden oluşan (2,5,5) shape'inde 3 boyutlu bir array oluşturun. Ardından bu array'in dimension'ını(boyutunu) ve shape'ini kontrol edin.\n",
        "#Cevap:"
      ],
      "metadata": {
        "id": "vGKOioDaD1AN"
      }
    },
    {
      "cell_type": "code",
      "source": [
        "arr_random3d = np.random.randint(100, 1000, size=(2, 5, 5))\n",
        "print(f\"Array: {arr_random3d}\\nDimension: {arr_random3d.ndim}\\nShape: {arr_random3d.shape}\")"
      ],
      "metadata": {
        "colab": {
          "base_uri": "https://localhost:8080/"
        },
        "id": "53Z-H2uSD7bL",
        "outputId": "5196b3c3-b4b2-43dc-aa71-023393bd6ecb"
      },
      "execution_count": null,
      "outputs": [
        {
          "output_type": "stream",
          "name": "stdout",
          "text": [
            "Array: [[[315 893 894 492 330]\n",
            "  [991 880 611 189 538]\n",
            "  [338 824 203 731 182]\n",
            "  [921 121 237 237 350]\n",
            "  [689 985 144 186 996]]\n",
            "\n",
            " [[898 335 769 494 552]\n",
            "  [969 640 417 353 357]\n",
            "  [685 120 539 134 945]\n",
            "  [196 187 859 247 296]\n",
            "  [971 782 978 611 715]]]\n",
            "Dimension: 3\n",
            "Shape: (2, 5, 5)\n"
          ]
        }
      ]
    },
    {
      "cell_type": "markdown",
      "source": [
        "13) np.random modülünden uygun fonksiyonu kullanarak 0-100(0 ve 100 dahil) arasındaki tam sayılardan 10 tane seçerek bir array oluşturun. Bu array'in maximum, mininmum değerlerine ve bu değerlerin indexlerine bakın.\n",
        "\n",
        "#Cevap:"
      ],
      "metadata": {
        "id": "h9xr60lDL_dD"
      }
    },
    {
      "cell_type": "code",
      "source": [
        "arr_random1d = np.random.randint(0, 101, size=(10))\n",
        "print(f\"Array: {arr_random1d}\\n\",\n",
        "      f\"Maximum Value and Index: {arr_random1d.max()}-{arr_random1d.argmax()}\\n\",\n",
        "      f\"Minimum Value and Index: {arr_random1d.min()}-{arr_random1d.argmin()}\\n\",\n",
        "      f\"Dimension and Shape: {arr_random1d.ndim}-{arr_random1d.shape}\")"
      ],
      "metadata": {
        "colab": {
          "base_uri": "https://localhost:8080/"
        },
        "id": "s2M64ZuEMI2G",
        "outputId": "af1d187a-4eeb-4c03-cc3c-2d43218cc5a6"
      },
      "execution_count": null,
      "outputs": [
        {
          "output_type": "stream",
          "name": "stdout",
          "text": [
            "Array: [33 84 94 63 45 81  9 33  3 88]\n",
            " Maximum Value and Index: 94-2\n",
            " Minimum Value and Index: 3-8\n",
            " Dimension and Shape: 1-(10,)\n"
          ]
        }
      ]
    },
    {
      "cell_type": "markdown",
      "source": [
        "14) np.random modülünden uygun fonksiyonu kullanarak 300-500(300 ve 500 dahil) arasındaki tam sayılardan 20 tane seçerek (2,2,5) shape'inde 3 boyutlu bir array oluşturun. Ardından bu array'in içindeki 20 tam sayı arasından maximum ve minimum değerleri manuel olarak tespit edin ve indexleme yaparak çekmeye çalışın.\n",
        "#Cevap:"
      ],
      "metadata": {
        "id": "rdjuV7WhD73a"
      }
    },
    {
      "cell_type": "code",
      "source": [
        "arr_random3d_2 = np.random.randint(300,500, (2,2,5))\n",
        "arr_random3d_2"
      ],
      "metadata": {
        "colab": {
          "base_uri": "https://localhost:8080/"
        },
        "id": "Pb5oZJh1D9ht",
        "outputId": "6b8f9468-47c5-4287-9263-2670aeb69541"
      },
      "execution_count": null,
      "outputs": [
        {
          "output_type": "execute_result",
          "data": {
            "text/plain": [
              "array([[[376, 363, 488, 312, 368],\n",
              "        [300, 443, 427, 413, 438]],\n",
              "\n",
              "       [[335, 437, 383, 309, 352],\n",
              "        [380, 319, 305, 467, 457]]])"
            ]
          },
          "metadata": {},
          "execution_count": 58
        }
      ]
    },
    {
      "cell_type": "code",
      "source": [
        "print(f\"Maximum Value: {arr_random3d_2[0,0,2]}\\n\",\n",
        "      f\"Minimum Value: {arr_random3d_2[0,1,0]}\")"
      ],
      "metadata": {
        "colab": {
          "base_uri": "https://localhost:8080/"
        },
        "id": "h1Tb4HcwNYoe",
        "outputId": "5e5f58ad-a39e-441c-9323-67a79caa39d6"
      },
      "execution_count": null,
      "outputs": [
        {
          "output_type": "stream",
          "name": "stdout",
          "text": [
            "Maximum Value: 488\n",
            " Minimum Value: 300\n"
          ]
        }
      ]
    },
    {
      "cell_type": "markdown",
      "source": [
        "15) 0-50(50 dahil) arasındaki ardışık tam sayılardan oluşan bir array oluşturun. Ardından bu arrayin 20. ve 35. indexleri arasındaki değerleri 500'e eşitleyin ve yeni oluşan array'i ekrana yazdırarak broadcasting işleminin yapılıp yapılmadığını test edin.\n",
        "\n",
        "#Cevap:"
      ],
      "metadata": {
        "id": "4Hi7jILCMQoQ"
      }
    },
    {
      "cell_type": "code",
      "source": [
        "arr_orginal = np.arange(0, 51, dtype= int)\n",
        "print(arr_orginal)"
      ],
      "metadata": {
        "colab": {
          "base_uri": "https://localhost:8080/"
        },
        "id": "KPT-Cm_9MUQq",
        "outputId": "e1a68017-2bf6-4edc-f36b-a7f2c70ffb81"
      },
      "execution_count": null,
      "outputs": [
        {
          "output_type": "stream",
          "name": "stdout",
          "text": [
            "[ 0  1  2  3  4  5  6  7  8  9 10 11 12 13 14 15 16 17 18 19 20 21 22 23\n",
            " 24 25 26 27 28 29 30 31 32 33 34 35 36 37 38 39 40 41 42 43 44 45 46 47\n",
            " 48 49 50]\n"
          ]
        }
      ]
    },
    {
      "cell_type": "code",
      "source": [
        "arr_orginal[20:35] = 500\n",
        "print(arr_orginal)"
      ],
      "metadata": {
        "colab": {
          "base_uri": "https://localhost:8080/"
        },
        "id": "H2Z5x72vPAoA",
        "outputId": "e442b237-49a2-4d6f-d554-728974a23253"
      },
      "execution_count": null,
      "outputs": [
        {
          "output_type": "stream",
          "name": "stdout",
          "text": [
            "[  0   1   2   3   4   5   6   7   8   9  10  11  12  13  14  15  16  17\n",
            "  18  19 500 500 500 500 500 500 500 500 500 500 500 500 500 500 500  35\n",
            "  36  37  38  39  40  41  42  43  44  45  46  47  48  49  50]\n"
          ]
        }
      ]
    }
  ]
}